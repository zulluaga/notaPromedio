{
 "cells": [
  {
   "cell_type": "code",
   "execution_count": 30,
   "metadata": {},
   "outputs": [
    {
     "name": "stdout",
     "output_type": "stream",
     "text": [
      "La nota final del estudiante es:  6.6\n"
     ]
    }
   ],
   "source": [
    "def calcularNota(n1,n2,n3,n4,n5):\n",
    "    \"\"\"\n",
    "    Esta funcion realiza el promedio de 5 notas ingresadas, las cuales valen un 20%\n",
    "    cada una; de esta manera se completa el 100% de la nota final.\n",
    "    \"\"\"\n",
    "    return (n1*0.2)+(n2*0.2)+(n3*0.2)+(n4*0.2)+(n5*0.2)\n",
    "\n",
    "n1 = float(input(\"Ingrese la primera nota: \"))\n",
    "n2 = float(input(\"Ingrese la segunda nota: \"))\n",
    "n3 = float(input(\"Ingrese la tercera nota: \"))\n",
    "n4 = float(input(\"Ingrese la cuarta nota: \"))\n",
    "n5 = float(input(\"Ingrese la quinta nota: \"))\n",
    "    \n",
    "notaFinal = calcularNota (n1,n2,n3,n4,n5)\n",
    "    \n",
    "print(\"La nota final del estudiante es: \", round(notaFinal,2))\n",
    "    "
   ]
  }
 ],
 "metadata": {
  "kernelspec": {
   "display_name": "Python 3",
   "language": "python",
   "name": "python3"
  },
  "language_info": {
   "codemirror_mode": {
    "name": "ipython",
    "version": 3
   },
   "file_extension": ".py",
   "mimetype": "text/x-python",
   "name": "python",
   "nbconvert_exporter": "python",
   "pygments_lexer": "ipython3",
   "version": "3.10.8"
  },
  "orig_nbformat": 4,
  "vscode": {
   "interpreter": {
    "hash": "1464948e9d8a8ba03cc52a1d95e5d437f03a322fc2fe38ff62aee03640f8ed2f"
   }
  }
 },
 "nbformat": 4,
 "nbformat_minor": 2
}
