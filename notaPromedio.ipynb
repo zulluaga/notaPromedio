{
 "cells": [
  {
   "cell_type": "code",
   "execution_count": 1,
   "metadata": {},
   "outputs": [],
   "source": [
    "def notaPromedio (n1,n2,n3,n4,n5):\n",
    "    return (n1*0.2)+(n2*0.2)+(n3*0.2)+(n4*0.2)+(n5*0.2)"
   ]
  }
 ],
 "metadata": {
  "kernelspec": {
   "display_name": "Python 3",
   "language": "python",
   "name": "python3"
  },
  "language_info": {
   "codemirror_mode": {
    "name": "ipython",
    "version": 3
   },
   "file_extension": ".py",
   "mimetype": "text/x-python",
   "name": "python",
   "nbconvert_exporter": "python",
   "pygments_lexer": "ipython3",
   "version": "3.10.8"
  },
  "orig_nbformat": 4,
  "vscode": {
   "interpreter": {
    "hash": "1464948e9d8a8ba03cc52a1d95e5d437f03a322fc2fe38ff62aee03640f8ed2f"
   }
  }
 },
 "nbformat": 4,
 "nbformat_minor": 2
}
